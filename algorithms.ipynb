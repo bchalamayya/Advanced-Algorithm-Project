{
 "cells": [
  {
   "cell_type": "markdown",
   "metadata": {},
   "source": [
    "# Libraries"
   ]
  },
  {
   "cell_type": "code",
   "execution_count": 1,
   "metadata": {
    "collapsed": true
   },
   "outputs": [],
   "source": [
    "import numpy as np\n",
    "import datetime as d\n",
    "import math\n",
    "import queue\n",
    "import time\n",
    "from random import randint\n",
    "import matplotlib.pyplot as plt"
   ]
  },
  {
   "cell_type": "markdown",
   "metadata": {},
   "source": [
    "# String to test"
   ]
  },
  {
   "cell_type": "code",
   "execution_count": 2,
   "metadata": {
    "collapsed": true
   },
   "outputs": [],
   "source": [
    "str_A = \"HHHHELLO\"#\"ALTRUISTIC\" #\"ACCOMMODATION\"#\"ALTRUISTIC\"#\n",
    "str_B = \"HELLOL\"#\"ALGORITHM\"#\"ANTHROPOMORPHIZATION\" #\"ALGORITHM\"#"
   ]
  },
  {
   "cell_type": "markdown",
   "metadata": {},
   "source": [
    "# Dynamic Programming"
   ]
  },
  {
   "cell_type": "code",
   "execution_count": 3,
   "metadata": {
    "collapsed": true
   },
   "outputs": [],
   "source": [
    "def edit_distance(A, B):\n",
    "    n = len(A)\n",
    "    m = len(B)\n",
    "    ED = np.zeros((n+1,m+1), dtype='int32')\n",
    "    ptr = np.zeros((n+1,m+1), dtype='int32')\n",
    "           \n",
    "    \n",
    "    for i in range(n+1): \n",
    "        ED[i,0] = i\n",
    "        if i>0: \n",
    "            ptr[i,0] = 4 #up\n",
    "    for j in range(m+1):\n",
    "        ED[0,j] = j\n",
    "        if j>0:\n",
    "            ptr[0,j] = 2 #left\n",
    "            \n",
    "    if(n==0 or m==0):\n",
    "        A2, B2 = alignment(A,B,ptr)\n",
    "        return ED[n,m], A2, B2\n",
    "    \n",
    "    for i in range(1, n+1 ):\n",
    "        for j in range(1, m+1):\n",
    "            #MATRIX ED\n",
    "            diff = 0 if A[i-1] == B[j-1] else 1\n",
    "            ED[i,j] = min(ED[i-1,j] + 1, ED[i, j-1] + 1, ED[i-1,j-1] + diff)\n",
    "            \n",
    "            #TRACE-BACK\n",
    "            if (ED[i,j] == ED[i-1,j] + 1): #UP : DELETION\n",
    "                ptr[i,j] = ptr[i,j] | 4 \n",
    "            if (ED[i,j] == ED[i,j-1] + 1): #lEFT : INSERTION\n",
    "                ptr[i,j] = ptr[i,j] | 2 \n",
    "            if (ED[i,j] == ED[i-1,j-1] + diff): #DIAGONAL : SUBSTITUTION\n",
    "                ptr[i,j] = ptr[i,j] | 1\n",
    "#     print(ptr)\n",
    "    A2, B2 = alignment(A,B,ptr)\n",
    "    return ED[n,m], A2, B2"
   ]
  },
  {
   "cell_type": "markdown",
   "metadata": {},
   "source": [
    "# Trace & Alignment"
   ]
  },
  {
   "cell_type": "code",
   "execution_count": 4,
   "metadata": {
    "collapsed": true
   },
   "outputs": [],
   "source": [
    "def alignment(A, B, ptr, L=None):\n",
    "        \n",
    "    # create a trackback line\n",
    "    if L is None:\n",
    "        L = []\n",
    "        row = ptr.shape[0] - 1\n",
    "        col = ptr.shape[1] - 1\n",
    "        while (row!=0 or col!=0):\n",
    "            if (ptr[row,col] == 1)  or  (ptr[row,col] == 7):\n",
    "                L.append('D')\n",
    "                row = row - 1\n",
    "                col = col - 1\n",
    "            elif (ptr[row,col] == 4) or (ptr[row,col] == 5) or (ptr[row,col] == 6):\n",
    "                L.append('U')\n",
    "                row = row - 1\n",
    "            elif (ptr[row,col] == 2) or (ptr[row,col] == 3):\n",
    "                L.append('L')\n",
    "                col = col - 1\n",
    "            \n",
    "\n",
    "    #Update A and B with alignment\n",
    "    A2 = []\n",
    "    B2 = []\n",
    "    k = 0\n",
    "    h = 0\n",
    "    for i in range(len(L), 0, -1):\n",
    "        if L[i-1] == 'D':\n",
    "            A2.append(A[k])\n",
    "            B2.append(B[h])\n",
    "            k += 1\n",
    "            h += 1\n",
    "        elif L[i-1] == 'U':\n",
    "            A2.append(A[k])\n",
    "            B2.append('-')\n",
    "            k += 1\n",
    "        elif L[i-1] == 'L':\n",
    "            A2.append('-')\n",
    "            B2.append(B[h])\n",
    "            h += 1\n",
    "\n",
    "    return ''.join(A2), ''.join(B2) "
   ]
  },
  {
   "cell_type": "markdown",
   "metadata": {},
   "source": [
    "# Test dynamic programming method"
   ]
  },
  {
   "cell_type": "code",
   "execution_count": 5,
   "metadata": {},
   "outputs": [
    {
     "name": "stdout",
     "output_type": "stream",
     "text": [
      "ED using basic method: 4 \n",
      "Resulting alignment: \n",
      " HHHHELLO- \n",
      " H---ELLOL\n"
     ]
    }
   ],
   "source": [
    "ED, _A, _B  = edit_distance(str_A, str_B)\n",
    "print(\"ED using basic method:\", ED, \"\\nResulting alignment: \\n\",  _A, \"\\n\", _B)\n"
   ]
  },
  {
   "cell_type": "markdown",
   "metadata": {},
   "source": [
    "# Upgrade dynamic programming"
   ]
  },
  {
   "cell_type": "code",
   "execution_count": 6,
   "metadata": {
    "collapsed": true
   },
   "outputs": [],
   "source": [
    "def linear_space_edit_distance(A,B):\n",
    "    n = len(A)\n",
    "    m = len(B)\n",
    "    ED = np.zeros((m+1), dtype='int32')\n",
    "    for j in range(m+1):\n",
    "        ED[j] = j\n",
    "\n",
    "    for i in range(1, n+1):\n",
    "        left = i\n",
    "        dag = i-1\n",
    "        for j in range(1, m+1):\n",
    "            diff = 0 if A[i-1] == B[j-1] else 1\n",
    "            curr = min(ED[j] + 1, left + 1, dag + diff)\n",
    "            left = curr\n",
    "            dag = ED[j]\n",
    "            ED[j] = curr\n",
    "        \n",
    "    return ED[-1]"
   ]
  },
  {
   "cell_type": "code",
   "execution_count": 7,
   "metadata": {},
   "outputs": [
    {
     "name": "stdout",
     "output_type": "stream",
     "text": [
      "ED using linear space method: 4\n"
     ]
    }
   ],
   "source": [
    "ED = linear_space_edit_distance(str_A, str_B)\n",
    "print(\"ED using linear space method:\", ED)"
   ]
  },
  {
   "cell_type": "markdown",
   "metadata": {},
   "source": [
    "# Recursive method"
   ]
  },
  {
   "cell_type": "code",
   "execution_count": 8,
   "metadata": {
    "collapsed": true
   },
   "outputs": [],
   "source": [
    "def edit_distance_recursive(A, B):\n",
    "    if len(A)== 0:\n",
    "        return len(B)\n",
    "    if len(B) == 0:\n",
    "        return len(A)\n",
    "    diff = 0 if A[-1] == B[-1] else 1\n",
    "       \n",
    "    return min(edit_distance_recursive(A[:-1], B[:-1]) + diff,\n",
    "              edit_distance_recursive(A[:-1], B) + 1,\n",
    "              edit_distance_recursive(A, B[:-1]) +1)"
   ]
  },
  {
   "cell_type": "code",
   "execution_count": 9,
   "metadata": {
    "collapsed": true
   },
   "outputs": [],
   "source": [
    "# ED1 = edit_distance_recursive(str_A, str_B)\n",
    "# print(\"ED using recursive method:\", ED)"
   ]
  },
  {
   "cell_type": "markdown",
   "metadata": {},
   "source": [
    "# Conquer and Divide"
   ]
  },
  {
   "cell_type": "code",
   "execution_count": 25,
   "metadata": {
    "collapsed": true
   },
   "outputs": [],
   "source": [
    "def divide_and_conquer_version1(A,B):\n",
    "    \n",
    "    def linear_space_Hirshberg(A,B):\n",
    "        n = len(A)\n",
    "        m = len(B)\n",
    "\n",
    "        # position to divide String A\n",
    "        h = round(n/2)    \n",
    "        # init ED 1D array\n",
    "        ED = np.zeros((m+1), dtype='int32')\n",
    "        # init Hirshberg 1D array\n",
    "        H = np.zeros((m+1), dtype='int32')\n",
    "\n",
    "\n",
    "        for j in range(m+1):\n",
    "            ED[j] = j\n",
    "\n",
    "\n",
    "        for i in range(1, n+1):\n",
    "            #set up the left and Diagonal value of ED on each new row\n",
    "            left = i\n",
    "            dag = i-1\n",
    "            #Left and Diagonal value of H on each new row\n",
    "            H_left = 0\n",
    "            H_dag = 0\n",
    "            for j in range(1, m+1):\n",
    "                #Compute ED\n",
    "                diff = 0 if A[i-1] == B[j-1] else 1\n",
    "                curr = min(ED[j] + 1, left + 1, dag + diff)\n",
    "                #Compute Array 1D H thanks to result of ED\n",
    "                if i == h:\n",
    "                    H[j] = j \n",
    "                if (i > h):\n",
    "                    if (curr == left + 1):\n",
    "                        H_curr = H_left\n",
    "                    elif (curr == ED[j] + 1):\n",
    "                        H_curr = H[j]\n",
    "                    else:\n",
    "                        H_curr = H_dag\n",
    "                    #Update new value of left, dag and curr\n",
    "                    H_left = H_curr\n",
    "                    H_dag = H[j]\n",
    "                    H[j] = H_curr\n",
    "                #Update ED array     \n",
    "                left = curr\n",
    "                dag = ED[j]\n",
    "                ED[j] = curr\n",
    "\n",
    "        return np.array([h,H[m]], dtype='int32')\n",
    "    \n",
    "    \n",
    "    def Divide_and_Conquer(A, B, newED=None, newA=None, newB=None):\n",
    "        n = len(A)\n",
    "        m = len(B)\n",
    "\n",
    "        #global lists:\n",
    "        if newED is None:\n",
    "            newED = []\n",
    "        if newA is None:\n",
    "            newA = []\n",
    "        if newB is None:\n",
    "            newB = []\n",
    "\n",
    "        if (n < 2 or m < 2 ):\n",
    "\n",
    "            ED, _A, _B = edit_distance(A, B)\n",
    "\n",
    "            newED.append(ED)\n",
    "            for word in _A:\n",
    "                newA.append(word )\n",
    "            for word in _B:\n",
    "                newB.append(word)\n",
    "\n",
    "        else:\n",
    "            H = linear_space_Hirshberg(A, B)\n",
    "            print(H[0],H[1])\n",
    "            print(A[:H[0]], B[:H[1]], A[H[0]:], B[H[1]:] )\n",
    "            Divide_and_Conquer(A[:H[0]], B[:H[1]], newED, newA, newB)\n",
    "            Divide_and_Conquer(A[H[0]:], B[H[1]:], newED, newA, newB)\n",
    "\n",
    "        return np.sum(np.array(newED)), ''.join(newA), ''.join(newB)\n",
    "    \n",
    "    ed, _A, _B = Divide_and_Conquer(A,B)\n",
    "    return ed, _A, _B"
   ]
  },
  {
   "cell_type": "code",
   "execution_count": 26,
   "metadata": {
    "scrolled": false
   },
   "outputs": [
    {
     "name": "stdout",
     "output_type": "stream",
     "text": [
      "4 1\n",
      "HHHH H ELLO ELLOL\n",
      "2 2\n",
      "EL EL LO LOL\n",
      "1 1\n",
      "E E L L\n",
      "1 1\n",
      "L L O OL\n",
      "ED using divide and conquer version 1 =  4 \n",
      "Resulting Alignment: \n",
      " HHHHELLO- \n",
      " H---ELLOL\n"
     ]
    }
   ],
   "source": [
    "ED, _A, _B = divide_and_conquer_version1(str_A, str_B)\n",
    "print(\"ED using divide and conquer version 1 = \",ED,\"\\nResulting Alignment: \\n\", _A, \"\\n\", _B)"
   ]
  },
  {
   "cell_type": "code",
   "execution_count": 12,
   "metadata": {
    "collapsed": true
   },
   "outputs": [],
   "source": [
    "def divide_conquer_version2(A, B):\n",
    "    \n",
    "    def edit_distance_forward(A, B):\n",
    "        n = len(A)\n",
    "        m = len(B) \n",
    "        ED = np.zeros((m+1), dtype='int32')\n",
    "\n",
    "        for j in range(m+1):\n",
    "            ED[j] = j\n",
    "\n",
    "        for i in range(1, n+1 ):\n",
    "            left = i\n",
    "            dag = i-1\n",
    "            ED[0] = i\n",
    "            for j in range(1, m+1):\n",
    "                #MATRIX ED\n",
    "                diff = 0 if A[i-1] == B[j-1] else 1\n",
    "                curr = min(ED[j] + 1, left + 1, dag + diff)\n",
    "                left = curr\n",
    "                dag = ED[j]\n",
    "                ED[j] = curr\n",
    "\n",
    "        return ED\n",
    "\n",
    "    def edit_distance_backward(A, B):\n",
    "        n = len(A)\n",
    "        m = len(B) \n",
    "\n",
    "        ED = np.zeros((m+1), dtype='int32')\n",
    "\n",
    "        for j in range(m, -1, -1):\n",
    "            ED[j] = m - j\n",
    "\n",
    "        for i in range(n-1, -1 , -1):\n",
    "            left = n-i\n",
    "            dag = n-i-1\n",
    "            ED[m] = n-i\n",
    "            for j in range(m-1, -1, -1):\n",
    "                #MATRIX ED\n",
    "                diff = 0 if A[i] == B[j] else 1\n",
    "                curr = min(ED[j] + 1, left + 1, dag + diff)\n",
    "                left = curr\n",
    "                dag = ED[j]\n",
    "                ED[j] = curr\n",
    "\n",
    "        return ED\n",
    "\n",
    "    def find_min_point(row):\n",
    "        \n",
    "        #find the minimal value of the row\n",
    "        min_value = min(row)\n",
    "        #find index of all minimums\n",
    "        min_index = np.where(row == min_value)[0]\n",
    "        \n",
    "        return min_index[0]\n",
    "\n",
    "    def Hirshberg(A,B):\n",
    "        n = len(A)\n",
    "        m = len(B)\n",
    "\n",
    "        # position to divide String A\n",
    "        h = int(n/2) \n",
    "\n",
    "        ED_forward = edit_distance_forward(A[:h], B)\n",
    "        ED_backward = edit_distance_backward(A[h:], B)\n",
    "\n",
    "        # Adding corresponding elements of these two rows h\n",
    "        row_h = ED_forward[:] + ED_backward[:]\n",
    "\n",
    "        # position to divide String B\n",
    "        h2 = find_min_point(row_h) \n",
    "\n",
    "        return np.array([h, h2], dtype='int32')\n",
    "\n",
    "    def Divide_and_Conquer(A, B, newED=None, newA=None, newB=None):\n",
    "        n = len(A)\n",
    "        m = len(B)\n",
    "\n",
    "        #global lists:\n",
    "        if newED is None:\n",
    "            newED = []\n",
    "        if newA is None:\n",
    "            newA = []\n",
    "        if newB is None:\n",
    "            newB = []\n",
    "\n",
    "        if (n < 2 or m < 2 ):\n",
    "\n",
    "            ED, _A, _B = edit_distance(A, B)\n",
    "\n",
    "            newED.append(ED)\n",
    "            for word in _A:\n",
    "                newA.append(word )\n",
    "            for word in _B:\n",
    "                newB.append(word)\n",
    "\n",
    "        else:\n",
    "            H = Hirshberg(A, B)\n",
    "            Divide_and_Conquer(A[:H[0]], B[:H[1]], newED, newA, newB)\n",
    "            Divide_and_Conquer(A[H[0]:], B[H[1]:], newED, newA, newB)\n",
    "\n",
    "        return np.sum(np.array(newED)), ''.join(newA), ''.join(newB)\n",
    "    \n",
    "    ed, _A, _B = Divide_and_Conquer(A,B)\n",
    "    return ed, _A, _B"
   ]
  },
  {
   "cell_type": "code",
   "execution_count": 13,
   "metadata": {},
   "outputs": [
    {
     "name": "stdout",
     "output_type": "stream",
     "text": [
      "ED using divide and conquer version 2 =  4 \n",
      "Resulting Alignment: \n",
      " HHHHELLO- \n",
      " H---ELLOL\n"
     ]
    }
   ],
   "source": [
    "ED, _A, _B = divide_conquer_version2(str_A, str_B)\n",
    "print(\"ED using divide and conquer version 2 = \", ED,\"\\nResulting Alignment: \\n\", _A, \"\\n\", _B)"
   ]
  },
  {
   "cell_type": "markdown",
   "metadata": {},
   "source": [
    "# Stripe K"
   ]
  },
  {
   "cell_type": "code",
   "execution_count": 16,
   "metadata": {
    "collapsed": true
   },
   "outputs": [],
   "source": [
    "def stripe_edit_distance(A, B):\n",
    "    n = len(A)\n",
    "    m = len(B)\n",
    "    \n",
    "    ED = np.empty((n+1,m+1))\n",
    "    ptr = np.zeros((n+1,m+1), dtype='int32')\n",
    "     \n",
    "       \n",
    "    if(n==0 or m==0):\n",
    "        for i in range(n+1): \n",
    "            ED[i,0] = i\n",
    "            if i>0: \n",
    "                ptr[i,0] = 4 #up\n",
    "        for j in range(m+1):\n",
    "            ED[0,j] = j\n",
    "            if j>0:\n",
    "                ptr[0,j] = 2 #left\n",
    "    \n",
    "    else:\n",
    "        \n",
    "        ED[:] = math.inf #infinity\n",
    "        \n",
    "        # auto set up the threshold K\n",
    "        k = 1    \n",
    "        while(abs(n-m) > k):\n",
    "            k += 1\n",
    "#         print(\"k = \",k )\n",
    "\n",
    "        for j in range(m+1):\n",
    "            if j < k+1:\n",
    "                ED[0,j] = j\n",
    "                ptr[0,j] = 2 if j>0 else 0 #left\n",
    "\n",
    "        for i in range(n+1):\n",
    "            if i < k+1:\n",
    "                ED[i,0] = i\n",
    "                ptr[i,0] = 4 if i>0 else 0 #Up\n",
    "\n",
    "        for i in range(1, n+1):\n",
    "            # set up the threshold window\n",
    "            a = max(1, i-k)\n",
    "            b = min(m+1, i+k+1)\n",
    "\n",
    "            for j in range(a, b):\n",
    "                #MATRIX ED\n",
    "                diff = 0 if A[i-1] == B[j-1] else 1\n",
    "                ED[i,j] = min(ED[i-1,j] + 1, ED[i, j-1] + 1, ED[i-1,j-1] + diff)\n",
    "\n",
    "             #TRACE-BACK\n",
    "                if (ED[i,j] == ED[i-1,j] + 1): #UP : DELETION\n",
    "                    ptr[i,j] = ptr[i,j] | 4 \n",
    "                if (ED[i,j] == ED[i,j-1] + 1): #lEFT : INSERTION\n",
    "                    ptr[i,j] = ptr[i,j] | 2 \n",
    "                if (ED[i,j] == ED[i-1,j-1] + diff): #DIAGONAL : SUBSTITUTION\n",
    "                    ptr[i,j] = ptr[i,j] | 1\n",
    "           \n",
    "    A2, B2 = alignment(A,B,ptr)            \n",
    "    return ED[n,m], A2, B2"
   ]
  },
  {
   "cell_type": "code",
   "execution_count": 17,
   "metadata": {
    "scrolled": true
   },
   "outputs": [
    {
     "name": "stdout",
     "output_type": "stream",
     "text": [
      "ED using stripe K method: 6.0 \n",
      "Resulting alignment: \n",
      " HHHHELLO \n",
      " HELLOL--\n"
     ]
    }
   ],
   "source": [
    "ED, _A, _B  = stripe_edit_distance(str_A, str_B)\n",
    "print(\"ED using stripe K method:\", ED, \"\\nResulting alignment: \\n\",  _A, \"\\n\", _B)"
   ]
  },
  {
   "cell_type": "markdown",
   "metadata": {},
   "source": [
    "# Branch and Bound"
   ]
  },
  {
   "cell_type": "code",
   "execution_count": 18,
   "metadata": {
    "collapsed": true
   },
   "outputs": [],
   "source": [
    "class Node:\n",
    "    def __init__(self, A, B, cost):\n",
    "        self.A = A\n",
    "        self.B = B\n",
    "        self.cost = cost\n",
    "        self.h = heuristic(self.A, self.B) \n",
    "        self.f = self.cost + self.h \n",
    "        self.path = ''\n",
    "        \n",
    "def heuristic(A, B):\n",
    "    return (abs(len(A) - len(B)))\n",
    "\n",
    "def Branch_and_Bound_version2(A,B):\n",
    "    \n",
    "    Q = queue.LifoQueue()\n",
    "    node0 = Node(A,B,0)\n",
    "    bound = math.inf    \n",
    "    Q.put(node0)\n",
    "    path = ''\n",
    "    \n",
    "    while(Q.empty()==False):\n",
    "        node = Q.get()\n",
    "        \n",
    "        #if the node can be expanded:\n",
    "        if(len(node.A) != 0 and len(node.B)!= 0):\n",
    "            #expand to three new nodes\n",
    "            diff = 0 if node.A[-1] == node.B[-1] else 1\n",
    "            nextNodes = []\n",
    "            nextNodes.append(Node(node.A[:-1], node.B, node.cost + 1))\n",
    "            nextNodes.append(Node(node.A, node.B[:-1],  node.cost + 1))\n",
    "            nextNodes.append(Node(node.A[:-1], node.B[:-1], node.cost + diff))\n",
    "            #update the path of nodes\n",
    "            nextNodes[0].path = node.path + 'U'\n",
    "            nextNodes[1].path = node.path + 'L'\n",
    "            nextNodes[2].path = node.path + 'D'\n",
    "            \n",
    "            #if the value of node higher than the bound, so cutoff, otherwise put it into the queue to expande next time\n",
    "            for _node in nextNodes:\n",
    "                if _node.f <= bound:\n",
    "                    Q.put(_node)\n",
    "                    \n",
    "        #if solution is found, the node cannot be expanded:        \n",
    "        elif(len(node.A) == 0 or len(node.B)== 0):\n",
    "            #update the bound if higher than the value of the final node (solution), \n",
    "            #and also update the path leading the new solution\n",
    "            if bound >= node.f:\n",
    "                path = node.path + len(node.B)*'L' + len(node.A)*'U'\n",
    "                bound = node.f\n",
    "                               \n",
    "                \n",
    "    _A, _B = alignment(A, B, None, path)\n",
    "    return bound, _A, _B"
   ]
  },
  {
   "cell_type": "code",
   "execution_count": 19,
   "metadata": {},
   "outputs": [
    {
     "name": "stdout",
     "output_type": "stream",
     "text": [
      "ED using B&B method: 4 \n",
      "Alignment resulting:\n",
      " HHHHELLO- \n",
      " H---ELLOL\n"
     ]
    }
   ],
   "source": [
    "ED, _A, _B  = Branch_and_Bound_version2(str_A, str_B)\n",
    "print(\"ED using B&B method:\", ED, \"\\nAlignment resulting:\\n\", _A, \"\\n\", _B)"
   ]
  },
  {
   "cell_type": "markdown",
   "metadata": {},
   "source": [
    "# other traceback version "
   ]
  },
  {
   "cell_type": "code",
   "execution_count": 20,
   "metadata": {
    "collapsed": true
   },
   "outputs": [],
   "source": [
    "\n",
    "# Dynamic Programming Method\n",
    "def nisal_edit_distance(A, B):\n",
    "    n = len(A)\n",
    "    m = len(B)\n",
    "    ED = np.zeros((n + 1, m + 1), dtype='int32')\n",
    "\n",
    "    for i in range(m+1):\n",
    "        ED[0,i] = i\n",
    "\n",
    "    for j in range(n+1):\n",
    "        ED[j,0] = j\n",
    "\n",
    "    for k in range (1,n+1):\n",
    "        for l in range(1,m+1):\n",
    "            if A[k-1] == B[l-1]:\n",
    "                ED[k,l] = ED[k-1, l-1]\n",
    "\n",
    "            else:\n",
    "                ED[k,l] = min(ED[k-1, l-1], ED[k, l-1], ED[k-1, l]) + 1\n",
    "\n",
    "    #traceback\n",
    "    tr = [] #list of actions\n",
    "    p=n\n",
    "    q=m\n",
    "    while p>=0 or q>=0:\n",
    "        if p>0 and q>0:\n",
    "            if A[p-1] == B[q-1]:\n",
    "                tr.append('D') \n",
    "                p= p-1\n",
    "                q = q-1\n",
    "            else:\n",
    "                if ED[p-1,q-1] == min(ED[p-1,q-1],ED[p,q-1],ED[p-1,q]):\n",
    "                    tr.append('D') #SUBSTITUTION\n",
    "                    p = p - 1\n",
    "                    q = q - 1\n",
    "                elif ED[p,q-1] == min(ED[p-1,q-1],ED[p,q-1],ED[p-1,q]):\n",
    "                    tr.append('L') #INSERTION\n",
    "                    q=q-1\n",
    "                else:\n",
    "                    tr.append('U') #DELETION\n",
    "                    p=p-1\n",
    "        elif p==0 and q>0:\n",
    "            tr.append('L')\n",
    "            q=q-1\n",
    "        elif p>0 and q==0:\n",
    "            tr.append('U')\n",
    "            p=p-1\n",
    "        else:\n",
    "            p=-1\n",
    "            q=-1\n",
    "#     tr.reverse\n",
    "#   Update A and B with alignment\n",
    "    A2 = []\n",
    "    B2 = []\n",
    "    k = 0\n",
    "    h = 0\n",
    "    for i in range(len(tr), 0, -1):\n",
    "        if tr[i-1] == 'D':\n",
    "            A2.append(A[k])\n",
    "            B2.append(B[h])\n",
    "            k += 1\n",
    "            h += 1\n",
    "        elif tr[i-1] == 'U':\n",
    "            A2.append(A[k])\n",
    "            B2.append('-')\n",
    "            k += 1\n",
    "        elif tr[i-1] == 'L':\n",
    "            A2.append('-')\n",
    "            B2.append(B[h])\n",
    "            h += 1\n",
    "        \n",
    "    return ED[n,m], ''.join(A2), ''.join(B2)\n"
   ]
  },
  {
   "cell_type": "code",
   "execution_count": 21,
   "metadata": {},
   "outputs": [
    {
     "name": "stdout",
     "output_type": "stream",
     "text": [
      "ED using Nisal trace back method: 4 \n",
      "Resulting alignment: \n",
      " HHHHELLO- \n",
      " ---HELLOL\n"
     ]
    }
   ],
   "source": [
    "ED, _A, _B  = nisal_edit_distance(str_A, str_B)\n",
    "print(\"ED using Nisal trace back method:\", ED, \"\\nResulting alignment: \\n\",  _A, \"\\n\", _B)"
   ]
  },
  {
   "cell_type": "markdown",
   "metadata": {},
   "source": [
    "# test time complexity"
   ]
  },
  {
   "cell_type": "code",
   "execution_count": 22,
   "metadata": {
    "collapsed": true
   },
   "outputs": [],
   "source": [
    "# def randWord(k):\n",
    "#     return ''.join([ chr(randint(ord('a'), ord('z'))) for _ in range(k) ])\n",
    "\n",
    "# def randWords(n):\n",
    "#     return [np.array([randWord(k), randWord(k)]) for k in range(n)]\n",
    "\n",
    "# def time2words(a, b, key):\n",
    "#     t0 = time.time()\n",
    "#     if key == 1:\n",
    "#         divide_and_conquer_version1(a,b)\n",
    "#     elif key == 2:\n",
    "#         divide_conquer_version2(a,b)\n",
    "#     elif key == 3:\n",
    "#          edit_distance(a,b)\n",
    "#     t1 = time.time()\n",
    "#     return round(t1-t0, 3)\n",
    "\n",
    "# words=randWords(400)\n",
    "# x = range(0, len(words), 5)\n",
    "\n",
    "# def timeoverall(k):\n",
    "#     y=[]\n",
    "#     for pair in words:\n",
    "#         value = time2words(pair[0], pair[1], key = k)\n",
    "#         y.append(value)\n",
    "# #     for i in x:\n",
    "# #         value = time2words(words[i][0], words[i][1], key = k)\n",
    "# #         y.append(value)\n",
    "#     return y"
   ]
  },
  {
   "cell_type": "code",
   "execution_count": 23,
   "metadata": {
    "collapsed": true,
    "scrolled": false
   },
   "outputs": [],
   "source": [
    "# y1 = timeoverall(1)\n",
    "# y2 = timeoverall(2)\n",
    "# y3 = timeoverall(3)"
   ]
  },
  {
   "cell_type": "code",
   "execution_count": 24,
   "metadata": {
    "collapsed": true
   },
   "outputs": [],
   "source": [
    "# plt.plot( y3, color='green', label='Dynamic Programming')\n",
    "# plt.plot( y1, color='blue', label='Divide and conquer version 1')\n",
    "# plt.plot( y2, color='red', label='Divide and conquer version 2')\n",
    "# plt.xlabel('Size of the words') \n",
    "# plt.ylabel('Time (s)')\n",
    "# plt.legend()\n",
    "# # plt.show()\n",
    "# plt.savefig('anh.png', transparent=False, dpi=200)"
   ]
  }
 ],
 "metadata": {
  "kernelspec": {
   "display_name": "Python 3",
   "language": "python",
   "name": "python3"
  },
  "language_info": {
   "codemirror_mode": {
    "name": "ipython",
    "version": 3
   },
   "file_extension": ".py",
   "mimetype": "text/x-python",
   "name": "python",
   "nbconvert_exporter": "python",
   "pygments_lexer": "ipython3",
   "version": "3.6.3"
  }
 },
 "nbformat": 4,
 "nbformat_minor": 2
}
